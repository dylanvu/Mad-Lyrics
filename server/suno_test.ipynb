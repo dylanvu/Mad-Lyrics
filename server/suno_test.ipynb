{
 "cells": [
  {
   "cell_type": "code",
   "execution_count": 1,
   "metadata": {},
   "outputs": [
    {
     "name": "stdout",
     "output_type": "stream",
     "text": [
      "293\n"
     ]
    }
   ],
   "source": [
    "from suno import SongsGen\n",
    "from dotenv import load_dotenv\n",
    "import os\n",
    "load_dotenv() \n",
    "\n",
    "SUNO_COOKIE = os.getenv(\"SUNO_COOKIE\")\n",
    "i = SongsGen(SUNO_COOKIE)\n",
    "print(i.get_limit_left())\n"
   ]
  },
  {
   "cell_type": "code",
   "execution_count": 2,
   "metadata": {},
   "outputs": [
    {
     "data": {
      "text/html": [
       "<pre style=\"white-space:pre;overflow-x:auto;line-height:normal;font-family:Menlo,'DejaVu Sans Mono',consolas,'Courier New',monospace\">Waiting for results<span style=\"color: #808000; text-decoration-color: #808000\">...</span>\n",
       "</pre>\n"
      ],
      "text/plain": [
       "Waiting for results\u001b[33m...\u001b[0m\n"
      ]
     },
     "metadata": {},
     "output_type": "display_data"
    },
    {
     "data": {
      "text/html": [
       "<pre style=\"white-space:pre;overflow-x:auto;line-height:normal;font-family:Menlo,'DejaVu Sans Mono',consolas,'Courier New',monospace\">Done!\n",
       "</pre>\n"
      ],
      "text/plain": [
       "Done!\n"
      ]
     },
     "metadata": {},
     "output_type": "display_data"
    },
    {
     "name": "stdout",
     "output_type": "stream",
     "text": [
      "https://audiopipe.suno.ai/?item_id=d371100b-ed21-497d-b63b-be012caaf974\n"
     ]
    }
   ],
   "source": [
    "output = i.get_songs_custom(\"\"\"(Verse 1)\n",
    "In the heart of the night, under the dim desk light,\n",
    "Creators unite, with their ideas taking flight.\n",
    "Fueled by the thrill, and a strong, caffeinated will,\n",
    "Dreaming up the future, their visions to fulfill.\n",
    "\n",
    "(Chorus)\n",
    "Hackathons, where dreams are drawn,\n",
    "Code and coffee until the dawn.\n",
    "Together we build, side by side,\n",
    "Innovation’s tide, a relentless ride.\n",
    "\n",
    "(Verse 2)\n",
    "Lines of code, like roads to a new abode,\n",
    "Where problems are solved, and new worlds are showed.\n",
    "Collaboration in the air, solutions rare,\n",
    "In the hacker’s lair, there’s magic to spare.\n",
    "\n",
    "(Chorus)\n",
    "Hackathons, where dreams are drawn,\n",
    "Code and coffee until the dawn.\n",
    "Pushing limits, breaking new ground,\n",
    "Where the future of tech is found.\"\"\", \"upbeat pop\")\n",
    "link = output['song_urls'][0]\n",
    "print(link)"
   ]
  },
  {
   "cell_type": "code",
   "execution_count": 6,
   "metadata": {},
   "outputs": [],
   "source": [
    "audio = i.get_mp3(link, stream=False)\n",
    "with open(\"output.mp3\", \"wb\") as f:\n",
    "    f.write(audio)"
   ]
  },
  {
   "cell_type": "code",
   "execution_count": 7,
   "metadata": {},
   "outputs": [],
   "source": [
    "audio = i.get_mp3(link, stream=True)\n",
    "for chunk in audio:\n",
    "    if chunk:\n",
    "        with open(\"song.mp3\", \"ab\") as f:\n",
    "            f.write(chunk)"
   ]
  },
  {
   "cell_type": "code",
   "execution_count": null,
   "metadata": {},
   "outputs": [],
   "source": [
    "audio = i.get_mp3(link, stream=True)\n",
    "for chunk in audio:\n",
    "    if chunk:\n",
    "        # send over ws"
   ]
  }
 ],
 "metadata": {
  "kernelspec": {
   "display_name": "mad",
   "language": "python",
   "name": "python3"
  },
  "language_info": {
   "codemirror_mode": {
    "name": "ipython",
    "version": 3
   },
   "file_extension": ".py",
   "mimetype": "text/x-python",
   "name": "python",
   "nbconvert_exporter": "python",
   "pygments_lexer": "ipython3",
   "version": "3.10.13"
  }
 },
 "nbformat": 4,
 "nbformat_minor": 2
}
